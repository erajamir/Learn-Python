{
  "nbformat": 4,
  "nbformat_minor": 0,
  "metadata": {
    "colab": {
      "provenance": []
    },
    "kernelspec": {
      "name": "python3",
      "display_name": "Python 3"
    },
    "language_info": {
      "name": "python"
    }
  },
  "cells": [
    {
      "cell_type": "markdown",
      "source": [
        "#Day 3 - Python Series"
      ],
      "metadata": {
        "id": "M5tHT0UcglBC"
      }
    },
    {
      "cell_type": "markdown",
      "source": [
        "#Easy Level – Understand the basics"
      ],
      "metadata": {
        "id": "BIeFRTfoguRI"
      }
    },
    {
      "cell_type": "markdown",
      "source": [
        "#1. Create a dictionary to store the name and marks of a student"
      ],
      "metadata": {
        "id": "f9RlUmQjgxWx"
      }
    },
    {
      "cell_type": "code",
      "source": [
        "info = {\n",
        "    \"name\" : \"Abishekh\",\n",
        "    \"marks\" : 45\n",
        "}\n",
        "print(info)"
      ],
      "metadata": {
        "colab": {
          "base_uri": "https://localhost:8080/"
        },
        "id": "Fol0Cms_pzJA",
        "outputId": "86d6031e-7074-401a-e969-2fdf84095408"
      },
      "execution_count": null,
      "outputs": [
        {
          "output_type": "stream",
          "name": "stdout",
          "text": [
            "{'name': 'Abishekh', 'marks': 45}\n"
          ]
        }
      ]
    },
    {
      "cell_type": "markdown",
      "source": [
        "#2.Add a new key \"age\" with value 20 to an existing dictionary."
      ],
      "metadata": {
        "id": "cosbyYdauyRN"
      }
    },
    {
      "cell_type": "code",
      "source": [
        "info = {\n",
        "    \"name\" : \"Eraj\",\n",
        "    \"class\" : 11\n",
        "}\n",
        "info[\"age\"] = 20\n",
        "print(info)"
      ],
      "metadata": {
        "colab": {
          "base_uri": "https://localhost:8080/"
        },
        "id": "-zstcBgguzX0",
        "outputId": "7f67f3c0-70a6-49ea-b1a1-3768f0c393ee"
      },
      "execution_count": null,
      "outputs": [
        {
          "output_type": "stream",
          "name": "stdout",
          "text": [
            "{'name': 'Eraj', 'class': 11, 'age': 20}\n"
          ]
        }
      ]
    },
    {
      "cell_type": "markdown",
      "source": [
        "#3. .Retrieve and print the value of key \"marks\" from the dictionary: {\"name\": \"Ali\", \"marks\": 85}."
      ],
      "metadata": {
        "id": "T_M9dnl3vMBj"
      }
    },
    {
      "cell_type": "code",
      "source": [
        "dic = {\n",
        "    \"name\" : \"Ali\",\n",
        "    \"marks\" : 85\n",
        "}\n",
        "print(dic[\"marks\"])"
      ],
      "metadata": {
        "colab": {
          "base_uri": "https://localhost:8080/"
        },
        "id": "5rtQeWJkvP1T",
        "outputId": "0775167a-c717-43ab-82a3-66f8c3cc5439"
      },
      "execution_count": null,
      "outputs": [
        {
          "output_type": "stream",
          "name": "stdout",
          "text": [
            "85\n"
          ]
        }
      ]
    },
    {
      "cell_type": "markdown",
      "source": [
        "#4.Create a set with values: 1, 2, 2, 3, 3, 3. Print the set"
      ],
      "metadata": {
        "id": "NGBY9owqv3rx"
      }
    },
    {
      "cell_type": "code",
      "source": [
        "set = {1, 2, 2, 3, 3, 3}\n",
        "print(set)"
      ],
      "metadata": {
        "colab": {
          "base_uri": "https://localhost:8080/"
        },
        "id": "rAjowL27v6dp",
        "outputId": "0b96de5e-ae58-4ed6-ed6f-d9d1ac2a461f"
      },
      "execution_count": null,
      "outputs": [
        {
          "output_type": "stream",
          "name": "stdout",
          "text": [
            "{1, 2, 3}\n"
          ]
        }
      ]
    },
    {
      "cell_type": "markdown",
      "source": [
        "#5. .Create an empty set and add the elements 10, 20, and 30 using add()."
      ],
      "metadata": {
        "id": "LfY3uCzUwCoQ"
      }
    },
    {
      "cell_type": "code",
      "source": [
        "empty_set = set()\n",
        "empty_set.add(10)\n",
        "empty_set.add(30)\n",
        "empty_set.add(20)\n",
        "print(empty_set)"
      ],
      "metadata": {
        "colab": {
          "base_uri": "https://localhost:8080/",
          "height": 211
        },
        "id": "GofwA2ZTwHKq",
        "outputId": "1d62d3d7-d249-464f-a53c-948b00a5b820"
      },
      "execution_count": null,
      "outputs": [
        {
          "output_type": "error",
          "ename": "TypeError",
          "evalue": "'set' object is not callable",
          "traceback": [
            "\u001b[0;31m---------------------------------------------------------------------------\u001b[0m",
            "\u001b[0;31mTypeError\u001b[0m                                 Traceback (most recent call last)",
            "\u001b[0;32m/tmp/ipython-input-10-3585420002.py\u001b[0m in \u001b[0;36m<cell line: 0>\u001b[0;34m()\u001b[0m\n\u001b[0;32m----> 1\u001b[0;31m \u001b[0mempty_set\u001b[0m \u001b[0;34m=\u001b[0m \u001b[0mset\u001b[0m\u001b[0;34m(\u001b[0m\u001b[0;34m)\u001b[0m         \u001b[0;31m# Creates an empty set\u001b[0m\u001b[0;34m\u001b[0m\u001b[0;34m\u001b[0m\u001b[0m\n\u001b[0m\u001b[1;32m      2\u001b[0m \u001b[0mempty_set\u001b[0m\u001b[0;34m.\u001b[0m\u001b[0madd\u001b[0m\u001b[0;34m(\u001b[0m\u001b[0;36m10\u001b[0m\u001b[0;34m)\u001b[0m         \u001b[0;31m# Adds 10 to the set\u001b[0m\u001b[0;34m\u001b[0m\u001b[0;34m\u001b[0m\u001b[0m\n\u001b[1;32m      3\u001b[0m \u001b[0mempty_set\u001b[0m\u001b[0;34m.\u001b[0m\u001b[0madd\u001b[0m\u001b[0;34m(\u001b[0m\u001b[0;36m30\u001b[0m\u001b[0;34m)\u001b[0m         \u001b[0;31m# Adds 30 to the set\u001b[0m\u001b[0;34m\u001b[0m\u001b[0;34m\u001b[0m\u001b[0m\n\u001b[1;32m      4\u001b[0m \u001b[0mempty_set\u001b[0m\u001b[0;34m.\u001b[0m\u001b[0madd\u001b[0m\u001b[0;34m(\u001b[0m\u001b[0;36m20\u001b[0m\u001b[0;34m)\u001b[0m         \u001b[0;31m# Adds 20 to the set\u001b[0m\u001b[0;34m\u001b[0m\u001b[0;34m\u001b[0m\u001b[0m\n\u001b[1;32m      5\u001b[0m \u001b[0mprint\u001b[0m\u001b[0;34m(\u001b[0m\u001b[0mempty_set\u001b[0m\u001b[0;34m)\u001b[0m          \u001b[0;31m# Prints the set\u001b[0m\u001b[0;34m\u001b[0m\u001b[0;34m\u001b[0m\u001b[0m\n",
            "\u001b[0;31mTypeError\u001b[0m: 'set' object is not callable"
          ]
        }
      ]
    },
    {
      "cell_type": "markdown",
      "source": [
        "#6.Use set.pop() on a set of 5 elements and print the result."
      ],
      "metadata": {
        "id": "AljG5mMix5vU"
      }
    },
    {
      "cell_type": "code",
      "source": [
        "set = {1, 3.4, 'applee', 444, 'mango'}\n",
        "set.pop()\n",
        "print(set)"
      ],
      "metadata": {
        "colab": {
          "base_uri": "https://localhost:8080/"
        },
        "id": "KedODNaHx9ls",
        "outputId": "13d46d63-b4bd-478f-e382-b688ecc6ee45"
      },
      "execution_count": null,
      "outputs": [
        {
          "output_type": "stream",
          "name": "stdout",
          "text": [
            "{3.4, 'applee', 444, 'mango'}\n"
          ]
        }
      ]
    },
    {
      "cell_type": "markdown",
      "source": [
        "#7.Use dict.get() to safely retrieve a value for a key that may not exist."
      ],
      "metadata": {
        "id": "2qWiEJiTyyrT"
      }
    },
    {
      "cell_type": "code",
      "source": [
        "dic = {\n",
        "    'class' : 11,\n",
        "    \"name\" : 'Eraj'\n",
        "}\n",
        "print(dic.get(\"age\"))"
      ],
      "metadata": {
        "colab": {
          "base_uri": "https://localhost:8080/"
        },
        "id": "xq6R2VM4zB9R",
        "outputId": "474957c9-1dfc-4812-d604-1b7411826c6e"
      },
      "execution_count": null,
      "outputs": [
        {
          "output_type": "stream",
          "name": "stdout",
          "text": [
            "None\n"
          ]
        }
      ]
    },
    {
      "cell_type": "markdown",
      "source": [
        "#8. .Print all keys from a dictionary using .keys()."
      ],
      "metadata": {
        "id": "RCZ2Mfg5G12q"
      }
    },
    {
      "cell_type": "code",
      "source": [
        "info = {\n",
        "    'name' : 'Eraj',\n",
        "    'age' : 17,\n",
        "    'class' : 11\n",
        "}\n",
        "print(info.keys())"
      ],
      "metadata": {
        "colab": {
          "base_uri": "https://localhost:8080/"
        },
        "id": "l8lIuTW9G8Ha",
        "outputId": "69e34419-4d78-4ec3-b7dc-63bb639b08ee"
      },
      "execution_count": null,
      "outputs": [
        {
          "output_type": "stream",
          "name": "stdout",
          "text": [
            "dict_keys(['name', 'age', 'class'])\n"
          ]
        }
      ]
    },
    {
      "cell_type": "markdown",
      "source": [
        "#9. .Create a dictionary with three keys: \"A\" , \"B\", \"C\" and assign any values."
      ],
      "metadata": {
        "id": "og6K9GoTHP75"
      }
    },
    {
      "cell_type": "code",
      "source": [
        "grade = {\n",
        "    \"A\" : 100,\n",
        "    \"B\" : 80,\n",
        "    \"C\" : 50\n",
        "}\n",
        "print(grade)"
      ],
      "metadata": {
        "colab": {
          "base_uri": "https://localhost:8080/"
        },
        "id": "eyWpyjCIHXMY",
        "outputId": "1ea4ba7f-60c8-415e-8b18-37690046e520"
      },
      "execution_count": null,
      "outputs": [
        {
          "output_type": "stream",
          "name": "stdout",
          "text": [
            "{'A': 100, 'B': 80, 'C': 50}\n"
          ]
        }
      ]
    },
    {
      "cell_type": "markdown",
      "source": [
        "#10.Create a set, remove an element using remove() and print the updated set."
      ],
      "metadata": {
        "id": "qNJjxfvpIeoe"
      }
    },
    {
      "cell_type": "code",
      "source": [
        "num = {3, 6, 4, 7, 2, 8}\n",
        "num.remove(3)\n",
        "print(num)"
      ],
      "metadata": {
        "colab": {
          "base_uri": "https://localhost:8080/"
        },
        "id": "GkLxUBj5IiZO",
        "outputId": "5e9a855f-f48e-42b6-f6fc-26cfa231c975"
      },
      "execution_count": null,
      "outputs": [
        {
          "output_type": "stream",
          "name": "stdout",
          "text": [
            "{2, 4, 6, 7, 8}\n"
          ]
        }
      ]
    },
    {
      "cell_type": "markdown",
      "source": [
        "#Medium Concept Application"
      ],
      "metadata": {
        "id": "da5TwGNoIzrN"
      }
    },
    {
      "cell_type": "markdown",
      "source": [
        "#1. Create a dictionary with subject names as keys and user input marks as values."
      ],
      "metadata": {
        "id": "zZnJpJKaJJPU"
      }
    },
    {
      "cell_type": "code",
      "source": [
        "maths = int(input(\"Write your maths marks: \"))\n",
        "urdu = int(input(\"Write your urdu marks: \"))\n",
        "sci = int(input(\"write your science marks: \"))\n",
        "\n",
        "marks = {\n",
        "    \"maths\" : maths,\n",
        "    \"urdu\" : urdu,\n",
        "    \"science\" : sci\n",
        "}\n",
        "print(\"Your subject marks are: \", marks)"
      ],
      "metadata": {
        "colab": {
          "base_uri": "https://localhost:8080/"
        },
        "id": "hjDM43p-JNec",
        "outputId": "47172a4d-c3cd-49fb-faaa-34de315647de"
      },
      "execution_count": null,
      "outputs": [
        {
          "output_type": "stream",
          "name": "stdout",
          "text": [
            "Write your maths marks: 74\n",
            "Write your urdu marks: 66\n",
            "write your science marks: 96\n",
            "Your subject marks are:  {'maths': 74, 'urdu': 66, 'science': 96}\n"
          ]
        }
      ]
    },
    {
      "cell_type": "markdown",
      "source": [
        "#2. Merge two dictionaries using update() and print the result."
      ],
      "metadata": {
        "id": "NHaFnPt0Kjma"
      }
    },
    {
      "cell_type": "code",
      "source": [
        "dic1 = {\n",
        "    'name' : 'Eraj',\n",
        "    'age' : 17,\n",
        "    'class' : 11\n",
        "}\n",
        "dic2 = {\n",
        "    'subject' : 'coding',\n",
        "    'program' : 'python',\n",
        "    'percentage' : 98.3\n",
        "}\n",
        "dic1.update(dic2)\n",
        "print(\"The updated dictionary is: \", list(dic1))"
      ],
      "metadata": {
        "colab": {
          "base_uri": "https://localhost:8080/"
        },
        "id": "2Hs7g2CyKyyR",
        "outputId": "aa676f05-b5f8-421b-8d43-c5e8ef359826"
      },
      "execution_count": null,
      "outputs": [
        {
          "output_type": "stream",
          "name": "stdout",
          "text": [
            "The updated dictionary is:  ['name', 'age', 'class', 'subject', 'program', 'percentage']\n"
          ]
        }
      ]
    },
    {
      "cell_type": "markdown",
      "source": [
        "#3.Given a list: [\"python\" ,\"java\", \"C++\", \"python\"], find the number of unique subjects using a set"
      ],
      "metadata": {
        "id": "GH0LpzC_L92-"
      }
    },
    {
      "cell_type": "code",
      "source": [
        "list = ['python', 'java', 'c++', 'python']\n",
        "convert = set(list)\n",
        "print(\"Number of unique subjects are:\", len(convert))\n"
      ],
      "metadata": {
        "colab": {
          "base_uri": "https://localhost:8080/",
          "height": 176
        },
        "id": "3k5WyVeWMGHu",
        "outputId": "31926be2-f909-4969-fd39-0f77b6c09565"
      },
      "execution_count": null,
      "outputs": [
        {
          "output_type": "error",
          "ename": "TypeError",
          "evalue": "'set' object is not callable",
          "traceback": [
            "\u001b[0;31m---------------------------------------------------------------------------\u001b[0m",
            "\u001b[0;31mTypeError\u001b[0m                                 Traceback (most recent call last)",
            "\u001b[0;32m/tmp/ipython-input-34-828522474.py\u001b[0m in \u001b[0;36m<cell line: 0>\u001b[0;34m()\u001b[0m\n\u001b[1;32m      1\u001b[0m \u001b[0mlist\u001b[0m \u001b[0;34m=\u001b[0m \u001b[0;34m[\u001b[0m\u001b[0;34m'python'\u001b[0m\u001b[0;34m,\u001b[0m \u001b[0;34m'java'\u001b[0m\u001b[0;34m,\u001b[0m \u001b[0;34m'c++'\u001b[0m\u001b[0;34m,\u001b[0m \u001b[0;34m'python'\u001b[0m\u001b[0;34m]\u001b[0m\u001b[0;34m\u001b[0m\u001b[0;34m\u001b[0m\u001b[0m\n\u001b[0;32m----> 2\u001b[0;31m \u001b[0mconvert\u001b[0m \u001b[0;34m=\u001b[0m \u001b[0mset\u001b[0m\u001b[0;34m(\u001b[0m\u001b[0mlist\u001b[0m\u001b[0;34m)\u001b[0m\u001b[0;34m\u001b[0m\u001b[0;34m\u001b[0m\u001b[0m\n\u001b[0m\u001b[1;32m      3\u001b[0m \u001b[0mprint\u001b[0m\u001b[0;34m(\u001b[0m\u001b[0;34m\"Number of unique subjects are:\"\u001b[0m\u001b[0;34m,\u001b[0m \u001b[0mlen\u001b[0m\u001b[0;34m(\u001b[0m\u001b[0mconvert\u001b[0m\u001b[0;34m)\u001b[0m\u001b[0;34m)\u001b[0m\u001b[0;34m\u001b[0m\u001b[0;34m\u001b[0m\u001b[0m\n",
            "\u001b[0;31mTypeError\u001b[0m: 'set' object is not callable"
          ]
        }
      ]
    },
    {
      "cell_type": "markdown",
      "source": [
        "#4.Use a nested dictionary to store student name and marks in math and science. Then print the math marks"
      ],
      "metadata": {
        "id": "NtST4F2ZNWC7"
      }
    },
    {
      "cell_type": "code",
      "source": [
        "info = {\n",
        "    'name' : 'Eraj',\n",
        "    'marks': {\n",
        "        'maths' : 34,\n",
        "        'sci' : 33\n",
        "    }\n",
        "}\n",
        "print(\"student info is\" , info)"
      ],
      "metadata": {
        "colab": {
          "base_uri": "https://localhost:8080/"
        },
        "id": "uhtrcdIhNaLC",
        "outputId": "66b167ea-3925-426c-a492-68ecdda3f2dd"
      },
      "execution_count": null,
      "outputs": [
        {
          "output_type": "stream",
          "name": "stdout",
          "text": [
            "student info is {'name': 'Eraj', 'marks': {'maths': 34, 'sci': 33}}\n"
          ]
        }
      ]
    },
    {
      "cell_type": "markdown",
      "source": [
        "#5. Write code to store three word-meaning pairs in a dictionary and print the dictionary"
      ],
      "metadata": {
        "id": "0xhEH6CDQ_5S"
      }
    },
    {
      "cell_type": "code",
      "source": [
        "dic = {\n",
        "    'python' : 'a programing langauge',\n",
        "    'mama' : 'family member',\n",
        "    'furqan_mamu' : 'Best guider'\n",
        "}\n",
        "print(dic)"
      ],
      "metadata": {
        "colab": {
          "base_uri": "https://localhost:8080/"
        },
        "id": "znFSAdXsRDpa",
        "outputId": "a982b558-3ece-41bd-ca80-8b7025fddbaa"
      },
      "execution_count": null,
      "outputs": [
        {
          "output_type": "stream",
          "name": "stdout",
          "text": [
            "{'python': 'a programing langauge', 'mama': 'family member', 'furqan_mamu': 'Best guider'}\n"
          ]
        }
      ]
    },
    {
      "cell_type": "markdown",
      "source": [
        "#6. .Create a set with different types: 9, \"9\", and 9.0. Print the set and explain the result."
      ],
      "metadata": {
        "id": "QKXXE15HRzjR"
      }
    },
    {
      "cell_type": "code",
      "source": [
        "nums = {9, '9', 9.0}\n",
        "print(nums)"
      ],
      "metadata": {
        "id": "OYARFv7nR4tQ",
        "colab": {
          "base_uri": "https://localhost:8080/"
        },
        "outputId": "5ad21c80-6289-4e40-a931-8e499195b8e1"
      },
      "execution_count": 40,
      "outputs": [
        {
          "output_type": "stream",
          "name": "stdout",
          "text": [
            "{9, '9'}\n"
          ]
        }
      ]
    },
    {
      "cell_type": "markdown",
      "source": [
        "#7. Write code to delete a key from a dictionary"
      ],
      "metadata": {
        "id": "ozFfcVM0gNMU"
      }
    },
    {
      "cell_type": "code",
      "source": [
        "my_dict = {\n",
        "    'name' : 'Eraj',\n",
        "    'age' : 18,\n",
        "    'class' : 11\n",
        "}\n",
        "my_dict.pop('age')\n",
        "print(\"updated dict: \", my_dict)"
      ],
      "metadata": {
        "colab": {
          "base_uri": "https://localhost:8080/"
        },
        "id": "He77YsWXgRJk",
        "outputId": "fe670ddf-e77a-400e-b460-c26a9fd2090b"
      },
      "execution_count": 43,
      "outputs": [
        {
          "output_type": "stream",
          "name": "stdout",
          "text": [
            "updated dict:  {'name': 'Eraj', 'class': 11}\n"
          ]
        }
      ]
    },
    {
      "cell_type": "markdown",
      "source": [
        "#8. Use .items() to loop over all key-value pairs in a dictionary and print them."
      ],
      "metadata": {
        "id": "ZaYH3bt3iBjB"
      }
    },
    {
      "cell_type": "code",
      "source": [],
      "metadata": {
        "id": "RHRytguEiJjI"
      },
      "execution_count": null,
      "outputs": []
    },
    {
      "cell_type": "markdown",
      "source": [
        "#9. Find and print the intersection of two sets"
      ],
      "metadata": {
        "id": "ANTkp_xEi4P-"
      }
    },
    {
      "cell_type": "code",
      "source": [
        "set1 = {'mama', 1 , 3, 4}\n",
        "\n",
        "set2 = {'mama', 1 , 3, 5, 3, 5}\n",
        "print(set1.intersection(set2))\n"
      ],
      "metadata": {
        "colab": {
          "base_uri": "https://localhost:8080/"
        },
        "id": "dxCWhmQki7-u",
        "outputId": "00f83007-30d6-4d4a-d4cc-18ffa6fe002f"
      },
      "execution_count": 44,
      "outputs": [
        {
          "output_type": "stream",
          "name": "stdout",
          "text": [
            "{1, 3, 'mama'}\n"
          ]
        }
      ]
    },
    {
      "cell_type": "markdown",
      "source": [
        "#10.Take 3 subject names and marks from the user and store them in an initially empty dictionary."
      ],
      "metadata": {
        "id": "UOZ_s7ORjzf9"
      }
    },
    {
      "cell_type": "code",
      "source": [
        "empty_dict = {}\n",
        "subject1 = input(\"Enter your suject name: \")\n",
        "marks1 = int(input(\"Enter your \" + subject1 + 'marks:'))\n",
        "empty_dict[subject1] = marks1\n",
        "subject2 = input(\"Enter your suject name: \")\n",
        "marks2 = int(input(\"Enter your \" + subject2 + 'marks:'))\n",
        "empty_dict[subject2] = marks2\n",
        "subject3 = input(\"Enter your suject name: \")\n",
        "marks3 = int(input(\"Enter your \" + subject3 + 'marks:'))\n",
        "empty_dict[subject3] = marks3\n",
        "print(empty_dict)\n"
      ],
      "metadata": {
        "colab": {
          "base_uri": "https://localhost:8080/"
        },
        "id": "odppKn6PkuVa",
        "outputId": "214d764f-dda5-44bd-ef7d-a67124959cfe"
      },
      "execution_count": 47,
      "outputs": [
        {
          "output_type": "stream",
          "name": "stdout",
          "text": [
            "Enter your suject name: sci\n",
            "Enter your scimarks:33\n",
            "Enter your suject name: urdu\n",
            "Enter your urdumarks:55\n",
            "Enter your suject name: maths 44\n",
            "Enter your maths 44marks:33\n",
            "{'sci': 33, 'urdu': 55, 'maths 44': 33}\n"
          ]
        }
      ]
    },
    {
      "cell_type": "markdown",
      "source": [
        "#Hard (Concept Mastery)"
      ],
      "metadata": {
        "id": "Ksvy6s8cweNA"
      }
    },
    {
      "cell_type": "markdown",
      "source": [
        "#1. Write a function that takes a list and returns a set of only unique elements."
      ],
      "metadata": {
        "id": "GMVSKtJVwwku"
      }
    },
    {
      "cell_type": "code",
      "source": [
        "list = ['hello', 231, 122, 122, 4]\n",
        "unique_el = set(list)\n",
        "print(unique_el)"
      ],
      "metadata": {
        "colab": {
          "base_uri": "https://localhost:8080/",
          "height": 176
        },
        "id": "JN4vwiBmw1st",
        "outputId": "dbda0556-6533-431e-d49d-514ab56e857d"
      },
      "execution_count": 48,
      "outputs": [
        {
          "output_type": "error",
          "ename": "TypeError",
          "evalue": "'set' object is not callable",
          "traceback": [
            "\u001b[0;31m---------------------------------------------------------------------------\u001b[0m",
            "\u001b[0;31mTypeError\u001b[0m                                 Traceback (most recent call last)",
            "\u001b[0;32m/tmp/ipython-input-48-3376949116.py\u001b[0m in \u001b[0;36m<cell line: 0>\u001b[0;34m()\u001b[0m\n\u001b[1;32m      1\u001b[0m \u001b[0mlist\u001b[0m \u001b[0;34m=\u001b[0m \u001b[0;34m[\u001b[0m\u001b[0;34m'hello'\u001b[0m\u001b[0;34m,\u001b[0m \u001b[0;36m231\u001b[0m\u001b[0;34m,\u001b[0m \u001b[0;36m122\u001b[0m\u001b[0;34m,\u001b[0m \u001b[0;36m122\u001b[0m\u001b[0;34m,\u001b[0m \u001b[0;36m4\u001b[0m\u001b[0;34m]\u001b[0m\u001b[0;34m\u001b[0m\u001b[0;34m\u001b[0m\u001b[0m\n\u001b[0;32m----> 2\u001b[0;31m \u001b[0munique_el\u001b[0m \u001b[0;34m=\u001b[0m \u001b[0mset\u001b[0m\u001b[0;34m(\u001b[0m\u001b[0mlist\u001b[0m\u001b[0;34m)\u001b[0m\u001b[0;34m\u001b[0m\u001b[0;34m\u001b[0m\u001b[0m\n\u001b[0m\u001b[1;32m      3\u001b[0m \u001b[0mprint\u001b[0m\u001b[0;34m(\u001b[0m\u001b[0munique_el\u001b[0m\u001b[0;34m)\u001b[0m\u001b[0;34m\u001b[0m\u001b[0;34m\u001b[0m\u001b[0m\n",
            "\u001b[0;31mTypeError\u001b[0m: 'set' object is not callable"
          ]
        }
      ]
    },
    {
      "cell_type": "markdown",
      "source": [
        "#2. Create a dictionary and remove all key-value pairs where the value is less than 50"
      ],
      "metadata": {
        "id": "pt9dNDfPw5l9"
      }
    },
    {
      "cell_type": "code",
      "source": [
        "#Uses Loops"
      ],
      "metadata": {
        "id": "F3xYGddGw9Md"
      },
      "execution_count": null,
      "outputs": []
    },
    {
      "cell_type": "markdown",
      "source": [
        "#3. Create a nested dictionary where each student has name, age, and a nested dictionary of subjects and scores."
      ],
      "metadata": {
        "id": "ntJn0PPhw9dl"
      }
    },
    {
      "cell_type": "code",
      "source": [
        "class_info = {\n",
        "    'students': {\n",
        "        'Karan' : 29,\n",
        "        \"Sara\" : 12,\n",
        "        'Maina' : 23\n",
        "    },\n",
        "    'sujects': {\n",
        "        \"Maths\" : 234,\n",
        "        \"Sci\" : 222,\n",
        "        \"Eng\" : 222\n",
        "    }\n",
        "}\n",
        "print(class_info)"
      ],
      "metadata": {
        "colab": {
          "base_uri": "https://localhost:8080/"
        },
        "id": "-fkaDtrDxMil",
        "outputId": "8fa09071-be5c-4dcb-f266-6d5fe6713f16"
      },
      "execution_count": 54,
      "outputs": [
        {
          "output_type": "stream",
          "name": "stdout",
          "text": [
            "{'students': {'Karan': 29, 'Sara': 12, 'Maina': 23}, 'sujects': {'Maths': 234, 'Sci': 222, 'Eng': 222}}\n"
          ]
        }
      ]
    },
    {
      "cell_type": "markdown",
      "source": [
        "#4. Take 5 word-meaning pairs from user input and store them in a dictionary."
      ],
      "metadata": {
        "id": "zVVAGPB2xMvF"
      }
    },
    {
      "cell_type": "code",
      "source": [
        "empty_dict = {}\n",
        "subject1 = input(\"Enter your suject name: \")\n",
        "marks1 = int(input(\"Enter your \" + subject1 + 'marks:'))\n",
        "empty_dict[subject1] = marks1\n",
        "subject2 = input(\"Enter your suject name: \")\n",
        "marks2 = int(input(\"Enter your \" + subject2 + 'marks:'))\n",
        "empty_dict[subject2] = marks2\n",
        "subject3 = input(\"Enter your suject name: \")\n",
        "marks3 = int(input(\"Enter your \" + subject3 + 'marks:'))\n",
        "empty_dict[subject3] = marks3\n",
        "marks4 = int(input(\"Enter your \" + subject4 + 'marks:'))\n",
        "empty_dict[subject4] = marks4\n",
        "marks5 = int(input(\"Enter your \" + subject5 + 'marks:'))\n",
        "empty_dict[subject5] = marks5\n",
        "print(empty_dict)"
      ],
      "metadata": {
        "id": "EYzB1MaexPbF"
      },
      "execution_count": null,
      "outputs": []
    },
    {
      "cell_type": "markdown",
      "source": [
        "#6. Write code to reverse a dictionary: make keys become values and values become keys."
      ],
      "metadata": {
        "id": "XSpt_AsMxUOE"
      }
    },
    {
      "cell_type": "code",
      "source": [],
      "metadata": {
        "id": "R3AJCAWQxVOj"
      },
      "execution_count": null,
      "outputs": []
    },
    {
      "cell_type": "markdown",
      "source": [
        "#8. Store both 9 and 9.0 as separate values in a set using any trick with built-in types."
      ],
      "metadata": {
        "id": "VRMvbRQaxcZE"
      }
    },
    {
      "cell_type": "code",
      "source": [
        "set = {9, \"9.0\"}\n",
        "print(set)"
      ],
      "metadata": {
        "colab": {
          "base_uri": "https://localhost:8080/"
        },
        "id": "jWVoPPQWxjPe",
        "outputId": "96a1456b-77f0-47f0-f194-2c4b8b5d6f3e"
      },
      "execution_count": 57,
      "outputs": [
        {
          "output_type": "stream",
          "name": "stdout",
          "text": [
            "{9, '9.0'}\n"
          ]
        }
      ]
    },
    {
      "cell_type": "markdown",
      "source": [
        "#9. .Simulate classroom allocation: given a list of subjects with duplicates, calculate how many classrooms are needed (hint: use set)."
      ],
      "metadata": {
        "id": "r7SDQVOlxjiE"
      }
    },
    {
      "cell_type": "code",
      "source": [],
      "metadata": {
        "id": "x27r0IYyxmrc"
      },
      "execution_count": null,
      "outputs": []
    }
  ]
}