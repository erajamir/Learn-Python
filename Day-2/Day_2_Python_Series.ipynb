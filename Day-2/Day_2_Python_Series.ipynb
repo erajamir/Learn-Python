{
  "nbformat": 4,
  "nbformat_minor": 0,
  "metadata": {
    "colab": {
      "provenance": [],
      "collapsed_sections": [
        "o8_AiQCdFRC_",
        "2Lch2B0jGiGu",
        "o3VTCBrQHhLu",
        "VRmo9Q3MKi7E",
        "xIW457zXLOPk",
        "wTUxep5JL6az",
        "2LK_FhF2MWpq",
        "szkHWWPmNnNJ",
        "aZicNXHPNsX5"
      ]
    },
    "kernelspec": {
      "name": "python3",
      "display_name": "Python 3"
    },
    "language_info": {
      "name": "python"
    }
  },
  "cells": [
    {
      "cell_type": "markdown",
      "source": [
        "#Day 2 - Python Series"
      ],
      "metadata": {
        "id": "r8SW-v1nFLxQ"
      }
    },
    {
      "cell_type": "markdown",
      "source": [
        "#Easy Level – Understand the basics\n",
        "\n"
      ],
      "metadata": {
        "id": "o_GuIBVgOon6"
      }
    },
    {
      "cell_type": "markdown",
      "source": [
        "#1. Input your name and print how many characters it has."
      ],
      "metadata": {
        "id": "o8_AiQCdFRC_"
      }
    },
    {
      "cell_type": "markdown",
      "source": [],
      "metadata": {
        "id": "GykWq49qO3xw"
      }
    },
    {
      "cell_type": "code",
      "source": [
        "name = input(\"Write your name: \")\n",
        "print(\"Characters in your name: \", len(name))"
      ],
      "metadata": {
        "colab": {
          "base_uri": "https://localhost:8080/"
        },
        "id": "ghZBIWNdFb0v",
        "outputId": "8eea00c8-a3ee-4be6-cfe0-7c8282cb10b3"
      },
      "execution_count": null,
      "outputs": [
        {
          "output_type": "stream",
          "name": "stdout",
          "text": [
            "Write your name: Eraj Amir\n",
            "Characters in your name:  9\n"
          ]
        }
      ]
    },
    {
      "cell_type": "markdown",
      "source": [
        "#2. Print the first letter of your name using indexing"
      ],
      "metadata": {
        "id": "2Lch2B0jGiGu"
      }
    },
    {
      "cell_type": "code",
      "source": [
        "name = input(\"Write your name: \")\n",
        "print(\"First letter of your name is: \", name[0])"
      ],
      "metadata": {
        "colab": {
          "base_uri": "https://localhost:8080/"
        },
        "id": "n_dB1wGRGonm",
        "outputId": "d3036e76-760d-4659-8be5-cf47fcfc54c2"
      },
      "execution_count": null,
      "outputs": [
        {
          "output_type": "stream",
          "name": "stdout",
          "text": [
            "Write your name: eraj amir\n",
            "First letter of your name is:  e\n"
          ]
        }
      ]
    },
    {
      "cell_type": "markdown",
      "source": [
        "#3. Join two strings: \"Python\" and \"Rocks\" and print the result."
      ],
      "metadata": {
        "id": "o3VTCBrQHhLu"
      }
    },
    {
      "cell_type": "code",
      "source": [
        "str1 = \"Python\"\n",
        "str2 = \"Rocks\"\n",
        "join = str1 + str2\n",
        "print(\"Result\", join)"
      ],
      "metadata": {
        "colab": {
          "base_uri": "https://localhost:8080/"
        },
        "id": "8ixizTGUHmnO",
        "outputId": "f038004f-28a9-4c94-c0dc-16b0e2ec3109"
      },
      "execution_count": null,
      "outputs": [
        {
          "output_type": "stream",
          "name": "stdout",
          "text": [
            "Result PythonRocks\n"
          ]
        }
      ]
    },
    {
      "cell_type": "markdown",
      "source": [
        "#4. Print \"Hello\" 5 times using string multiplication"
      ],
      "metadata": {
        "id": "VRmo9Q3MKi7E"
      }
    },
    {
      "cell_type": "code",
      "source": [
        "greet = \"hello\\n\"\n",
        "print(greet * 5)"
      ],
      "metadata": {
        "colab": {
          "base_uri": "https://localhost:8080/"
        },
        "id": "Y0qfCPnlKmcj",
        "outputId": "b04482ff-5e37-4093-9766-316dc606790c"
      },
      "execution_count": null,
      "outputs": [
        {
          "output_type": "stream",
          "name": "stdout",
          "text": [
            "hello\n",
            "hello\n",
            "hello\n",
            "hello\n",
            "hello\n",
            "\n"
          ]
        }
      ]
    },
    {
      "cell_type": "markdown",
      "source": [
        "#5. Ask the user to input any word and print the last character."
      ],
      "metadata": {
        "id": "xIW457zXLOPk"
      }
    },
    {
      "cell_type": "code",
      "source": [
        "word = input(\"Write any word: \")\n",
        "print(\"Last word is: \", word[-1])"
      ],
      "metadata": {
        "colab": {
          "base_uri": "https://localhost:8080/"
        },
        "id": "iCIHmHckLVKb",
        "outputId": "90a76d04-58b0-47b4-a25c-1eb781890068"
      },
      "execution_count": null,
      "outputs": [
        {
          "output_type": "stream",
          "name": "stdout",
          "text": [
            "Write any word: My name is Erij\n",
            "Last word is:  j\n"
          ]
        }
      ]
    },
    {
      "cell_type": "markdown",
      "source": [
        "#6. Slice the string \"ApnaCollege\" to print \"Apna\".\n",
        "\n"
      ],
      "metadata": {
        "id": "wTUxep5JL6az"
      }
    },
    {
      "cell_type": "code",
      "source": [
        "str1 = \"ApnaCollege\"\n",
        "print(str1[0:4])"
      ],
      "metadata": {
        "colab": {
          "base_uri": "https://localhost:8080/"
        },
        "id": "QA5Mk8N2MTz6",
        "outputId": "69caa42b-919c-4d80-dbec-7b44f7121a5b"
      },
      "execution_count": null,
      "outputs": [
        {
          "output_type": "stream",
          "name": "stdout",
          "text": [
            "Apna\n"
          ]
        }
      ]
    },
    {
      "cell_type": "markdown",
      "source": [
        "#7. Ask the user for their favorite fruit and print the capitalized version"
      ],
      "metadata": {
        "id": "2LK_FhF2MWpq"
      }
    },
    {
      "cell_type": "code",
      "source": [
        "fruit = input(\"Whats your fav fruit?: \")\n",
        "print(\"Your fav fruit is: fruit\" , fruit.capitalize())"
      ],
      "metadata": {
        "colab": {
          "base_uri": "https://localhost:8080/"
        },
        "id": "8ctbPkh4MaSa",
        "outputId": "5debd146-1548-4fa7-9eda-382b49f8eec2"
      },
      "execution_count": null,
      "outputs": [
        {
          "output_type": "stream",
          "name": "stdout",
          "text": [
            "Whats your fav fruit?: mango\n",
            "Your fav fruit is: fruit Mango\n"
          ]
        }
      ]
    },
    {
      "cell_type": "markdown",
      "source": [
        "#8. Count how many times the letter a appears in the word \"banana\"."
      ],
      "metadata": {
        "id": "J3XXCbWMNfcC"
      }
    },
    {
      "cell_type": "code",
      "source": [
        "word = \"Banana\"\n",
        "print(\"the word 'a' appears: \", word.count(\"a\"))"
      ],
      "metadata": {
        "colab": {
          "base_uri": "https://localhost:8080/"
        },
        "id": "8n0Q3bFIi_Fj",
        "outputId": "914880e1-6734-4fa1-abad-1ab1fcbe9dd0"
      },
      "execution_count": null,
      "outputs": [
        {
          "output_type": "stream",
          "name": "stdout",
          "text": [
            "the word 'a' appears:  3\n"
          ]
        }
      ]
    },
    {
      "cell_type": "markdown",
      "source": [
        "#9. Replace all spaces in \"I love Python\" with \"_\"."
      ],
      "metadata": {
        "id": "szkHWWPmNnNJ"
      }
    },
    {
      "cell_type": "code",
      "source": [
        "str1 = \"I love Python\"\n",
        "print(str1.replace(\" \", \"_\"))"
      ],
      "metadata": {
        "colab": {
          "base_uri": "https://localhost:8080/"
        },
        "id": "l9I8sLG-Nweh",
        "outputId": "95d8bc80-9cdb-4e5e-e9bf-2a5b05236717"
      },
      "execution_count": null,
      "outputs": [
        {
          "output_type": "stream",
          "name": "stdout",
          "text": [
            "I_love_Python\n"
          ]
        }
      ]
    },
    {
      "cell_type": "markdown",
      "source": [
        "#10. Check if the word \"developer\" ends with \"per\"."
      ],
      "metadata": {
        "id": "aZicNXHPNsX5"
      }
    },
    {
      "cell_type": "code",
      "source": [
        "str1 = \"developer\"\n",
        "if str1.endswith(\"per\"):\n",
        "  print(\"Yes its ends with per\")\n",
        "else:\n",
        "  print(\"No its not\")"
      ],
      "metadata": {
        "colab": {
          "base_uri": "https://localhost:8080/"
        },
        "id": "1NTBkvL2OL2g",
        "outputId": "194c30e0-928e-448a-cdba-16dd374b7b6b"
      },
      "execution_count": null,
      "outputs": [
        {
          "output_type": "stream",
          "name": "stdout",
          "text": [
            "Yes its ends with per\n"
          ]
        }
      ]
    },
    {
      "cell_type": "markdown",
      "source": [
        "#Medium Level – Logic building\n"
      ],
      "metadata": {
        "id": "24eamnaJoMrW"
      }
    },
    {
      "cell_type": "markdown",
      "source": [],
      "metadata": {
        "id": "tZP9KJL7ogby"
      }
    },
    {
      "cell_type": "markdown",
      "source": [
        "#11. Ask the user to enter a sentence and print how many spaces it has.\n"
      ],
      "metadata": {
        "id": "M37HpzHhokSr"
      }
    },
    {
      "cell_type": "code",
      "source": [
        "sentence = input(\"Write a sentence: \")\n",
        "print(\"In this sentence it has spaces: \", sentence.count(\" \"))"
      ],
      "metadata": {
        "colab": {
          "base_uri": "https://localhost:8080/"
        },
        "id": "ugP5ruM7oqLw",
        "outputId": "7a74e5af-c175-4869-fb44-7cc0eb9d4177"
      },
      "execution_count": null,
      "outputs": [
        {
          "output_type": "stream",
          "name": "stdout",
          "text": [
            "Write a sentence: My name is eraj. And i am a good programmer.\n",
            "In this sentence it has spaces:  9\n"
          ]
        }
      ]
    },
    {
      "cell_type": "markdown",
      "source": [
        "#12. Take a name and reverse it using slicing."
      ],
      "metadata": {
        "id": "OMF5LTQ6pNMV"
      }
    },
    {
      "cell_type": "code",
      "source": [
        "name = input(\"Write your name: \")\n",
        "print(\"Your reversed name is: \", name[::-1] )"
      ],
      "metadata": {
        "colab": {
          "base_uri": "https://localhost:8080/"
        },
        "id": "8XGRr_wxpS2T",
        "outputId": "b0bab7f4-6083-49a6-d3ee-27c5cbee007f"
      },
      "execution_count": null,
      "outputs": [
        {
          "output_type": "stream",
          "name": "stdout",
          "text": [
            "Write your name: eraj\n",
            "Your reversed name is:  jare\n"
          ]
        }
      ]
    },
    {
      "cell_type": "markdown",
      "source": [
        "#13. Check if a user-entered string is more than 10 characters long."
      ],
      "metadata": {
        "id": "i1WE1GfypVJe"
      }
    },
    {
      "cell_type": "code",
      "source": [
        "str1 = input(\"Enter any string: \")\n",
        "if len(str1) > 10:\n",
        "  print(\"Entered string is more than 10 chars long\")\n",
        "else:\n",
        "  print(\"No it is not\")"
      ],
      "metadata": {
        "id": "f8kXjlv2paMB",
        "colab": {
          "base_uri": "https://localhost:8080/"
        },
        "outputId": "68d1e8f3-933c-4eb8-cfac-6d4487d88703"
      },
      "execution_count": 1,
      "outputs": [
        {
          "output_type": "stream",
          "name": "stdout",
          "text": [
            "Enter any string: My name is Eraj and i am a good butterfly.\n",
            "Entered string is more than 10 chars long\n"
          ]
        }
      ]
    },
    {
      "cell_type": "markdown",
      "source": [
        "#14. Find the first index of the word \"code\" in \"I like to code in Python\".\n"
      ],
      "metadata": {
        "id": "0x5PaBZ4pagy"
      }
    },
    {
      "cell_type": "code",
      "source": [
        "str1 = \"I like to code in python\"\n",
        "index = str1.find(\"code\")\n",
        "print(\"The first index is:\" , index)"
      ],
      "metadata": {
        "id": "QQVM89CzpeuL",
        "colab": {
          "base_uri": "https://localhost:8080/"
        },
        "outputId": "6e67d5f4-b73c-4a85-8b52-69b0da3ff4db"
      },
      "execution_count": 2,
      "outputs": [
        {
          "output_type": "stream",
          "name": "stdout",
          "text": [
            "The first index is: 10\n"
          ]
        }
      ]
    },
    {
      "cell_type": "markdown",
      "source": [
        "#15. Input a number and check if it is even or odd.\n",
        "\n",
        "\n"
      ],
      "metadata": {
        "id": "rkd9DT0NpfIJ"
      }
    },
    {
      "cell_type": "code",
      "source": [
        "num = int(input(\"Enter a num: \"))\n",
        "if num % 2 == 0:\n",
        "  print(\"The num is even\")\n",
        "else:\n",
        "  print(\"The num is odd\")"
      ],
      "metadata": {
        "id": "l_M5xe5GpiiO"
      },
      "execution_count": null,
      "outputs": []
    },
    {
      "cell_type": "markdown",
      "source": [
        "#16. Ask the user for two strings and compare which one is longer.\n"
      ],
      "metadata": {
        "id": "M5gfmozepi9V"
      }
    },
    {
      "cell_type": "code",
      "source": [
        "str1 = input(\"Enter the string: \")\n",
        "str2 = input(\"Enter another string: \")\n",
        "if len(str1) > len(str2):\n",
        "  print(\"Len of str1 is longer \")\n",
        "elif len(str2) > len(str1):\n",
        "  print(\"Len of str2 is longer\")\n",
        "else:\n",
        "  print(\"both are equal\")"
      ],
      "metadata": {
        "id": "stjsV2r8pqF3",
        "colab": {
          "base_uri": "https://localhost:8080/"
        },
        "outputId": "5e6f5e80-1d95-4f05-d5fc-a180d59f2342"
      },
      "execution_count": 3,
      "outputs": [
        {
          "output_type": "stream",
          "name": "stdout",
          "text": [
            "Enter the string: hellllllooo\n",
            "Enter another string: ehehe\n",
            "Len of str1 is longer \n"
          ]
        }
      ]
    },
    {
      "cell_type": "markdown",
      "source": [
        "#17. Replace \"bad\" with \"good\" in \"This is a bad idea\" using .replace()"
      ],
      "metadata": {
        "id": "s_6_yhW5pqYL"
      }
    },
    {
      "cell_type": "code",
      "source": [
        "str1 = \"This is a bad idea\"\n",
        "replace = str1.replace(\"bad\", \"good\")\n",
        "print(replace)"
      ],
      "metadata": {
        "id": "Aqy7pAVhptI1",
        "colab": {
          "base_uri": "https://localhost:8080/"
        },
        "outputId": "6fd55594-e369-4cf8-9e47-03d3b2867a57"
      },
      "execution_count": 5,
      "outputs": [
        {
          "output_type": "stream",
          "name": "stdout",
          "text": [
            "This is a good idea\n"
          ]
        }
      ]
    },
    {
      "cell_type": "markdown",
      "source": [
        "#18. Check if the entered word starts with the letter 'A' (capital A)"
      ],
      "metadata": {
        "id": "jedIoqx6ptgY"
      }
    },
    {
      "cell_type": "code",
      "source": [
        "word = input(\"Write any word: \")\n",
        "if word[0] == 'A':\n",
        "  print(\"Yes its starts with 'A' \")\n",
        "else:\n",
        "  print(\"No it doesnt start with A\")"
      ],
      "metadata": {
        "id": "UGDEg2oLpwTN",
        "colab": {
          "base_uri": "https://localhost:8080/"
        },
        "outputId": "73c2009f-0f8c-41a4-bdd2-c71f0afdf421"
      },
      "execution_count": 7,
      "outputs": [
        {
          "output_type": "stream",
          "name": "stdout",
          "text": [
            "Write any word: Amir\n",
            "Yes its starts with 'A' \n"
          ]
        }
      ]
    },
    {
      "cell_type": "markdown",
      "source": [
        "#19. Ask the user for their name, and greet them with: \"Hello,<name>!\"."
      ],
      "metadata": {
        "id": "sK7GrOH7pwpg"
      }
    },
    {
      "cell_type": "code",
      "source": [
        "name = input(\"Enter your name: \")\n",
        "print(\"Hello!\", name)"
      ],
      "metadata": {
        "id": "EXIyggrbp1L5",
        "colab": {
          "base_uri": "https://localhost:8080/"
        },
        "outputId": "7e868c63-90c3-4d4f-e873-1c6af3c4e6d8"
      },
      "execution_count": 9,
      "outputs": [
        {
          "output_type": "stream",
          "name": "stdout",
          "text": [
            "Enter your name: Eraj\n",
            "Hello! Eraj\n"
          ]
        }
      ]
    },
    {
      "cell_type": "markdown",
      "source": [
        "#20. Take a number and check if it's a multiple of 3 and 5 both.\n",
        "\n",
        "\n"
      ],
      "metadata": {
        "id": "gkB80MzBp4vO"
      }
    },
    {
      "cell_type": "code",
      "source": [
        "num = int(input(\"Enter a num: \"))\n",
        "if num % 3 == 0 and num % 5 == 0:\n",
        "  print(\"Yes it's a multiple of 3 and 5 both\")\n",
        "else:\n",
        "  print(\"no it is nott\")"
      ],
      "metadata": {
        "id": "8K5Mbn6pp9ay",
        "colab": {
          "base_uri": "https://localhost:8080/"
        },
        "outputId": "6848fe53-3529-4497-fad9-202fc0813ad7"
      },
      "execution_count": 12,
      "outputs": [
        {
          "output_type": "stream",
          "name": "stdout",
          "text": [
            "Enter a num: 15\n",
            "Yes it's a multiple of 3 and 5 both\n"
          ]
        }
      ]
    },
    {
      "cell_type": "markdown",
      "source": [
        "#21. Ask the user for a number. If it’s more than 100, print \"Big Number\", else \"Small Number\"."
      ],
      "metadata": {
        "id": "AHQiLeuubetV"
      }
    },
    {
      "cell_type": "code",
      "source": [
        "num = int(input(\"Enter a num: \"))\n",
        "if num > 100:\n",
        "  print(\"Big NUM\")\n",
        "else:\n",
        "  print(\"Small Number\")"
      ],
      "metadata": {
        "colab": {
          "base_uri": "https://localhost:8080/"
        },
        "id": "3iRVEOzYbirT",
        "outputId": "580f4849-2bba-43e2-ff91-62526ddc5ddb"
      },
      "execution_count": 14,
      "outputs": [
        {
          "output_type": "stream",
          "name": "stdout",
          "text": [
            "Enter a num: 22\n",
            "Small Number\n"
          ]
        }
      ]
    },
    {
      "cell_type": "markdown",
      "source": [
        "#22. Find the greatest of 3 numbers entered by the user."
      ],
      "metadata": {
        "id": "rJSNmWxRbi-L"
      }
    },
    {
      "cell_type": "code",
      "source": [
        "num1 = int(input(\"Enter first number: \"))\n",
        "num2 = int(input(\"Enter second number: \"))\n",
        "num3 = int(input(\"Enter third number: \"))\n",
        "\n",
        "greater = max(num1, num2, num3)\n",
        "print(\"The greatest num is: \",3 greater)\n"
      ],
      "metadata": {
        "colab": {
          "base_uri": "https://localhost:8080/"
        },
        "id": "tIGpRm4cbpeC",
        "outputId": "6030ebe4-621b-451e-c396-2febe2a6adb0"
      },
      "execution_count": 17,
      "outputs": [
        {
          "output_type": "stream",
          "name": "stdout",
          "text": [
            "Enter first number: 55\n",
            "Enter second number: 333333333333\n",
            "Enter third number: 55\n",
            "The greatest num is:  333333333333\n"
          ]
        }
      ]
    },
    {
      "cell_type": "markdown",
      "source": [
        "#23. Ask the user to input two strings. Join them with a \" - \" in between."
      ],
      "metadata": {
        "id": "QYTnSP6RbppK"
      }
    },
    {
      "cell_type": "code",
      "source": [
        "str1 = input(\"Write something: \")\n",
        "str2 = input(\"Write something: \")\n",
        "print(str1 + '-' + str2)"
      ],
      "metadata": {
        "colab": {
          "base_uri": "https://localhost:8080/"
        },
        "id": "swgAg1KUbtnj",
        "outputId": "04226c80-f535-4b88-adbe-9ddf37052b95"
      },
      "execution_count": 18,
      "outputs": [
        {
          "output_type": "stream",
          "name": "stdout",
          "text": [
            "Write something: hehe\n",
            "Write something: meow\n",
            "hehe-meow\n"
          ]
        }
      ]
    },
    {
      "cell_type": "markdown",
      "source": [
        "#24. Check if a string is a palindrome (if slicing is allowed)."
      ],
      "metadata": {
        "id": "RyEVJe_zbt5L"
      }
    },
    {
      "cell_type": "code",
      "source": [
        "str1 = input(\"Write any word: \")\n",
        "reversed_str = str1[::-1]\n",
        "if reversed_str == str1:\n",
        "  print(\"it is a palindrome\")\n",
        "else:\n",
        "  print(\"It is not a palindrome\")"
      ],
      "metadata": {
        "colab": {
          "base_uri": "https://localhost:8080/"
        },
        "id": "19Cae4lgbzRT",
        "outputId": "ae47eb41-0f3b-489b-b010-70c42b70165e"
      },
      "execution_count": 21,
      "outputs": [
        {
          "output_type": "stream",
          "name": "stdout",
          "text": [
            "Write any word: erajare\n",
            "it is a palindrome\n"
          ]
        }
      ]
    },
    {
      "cell_type": "markdown",
      "source": [
        "#25. Take input of a string. If it contains \"python\", print \"Nice choice!\", else print \"Try again\"."
      ],
      "metadata": {
        "id": "pbqUoNq-bzqD"
      }
    },
    {
      "cell_type": "code",
      "source": [
        "str1 = input(\"Write a str: \")\n",
        "if \"python\" in str1:\n",
        "  print(\"Nice choice!\")\n",
        "else:\n",
        "  print(\"Try again\")"
      ],
      "metadata": {
        "id": "f80GYLKeb5Xa"
      },
      "execution_count": null,
      "outputs": []
    }
  ]
}