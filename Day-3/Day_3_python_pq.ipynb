{
  "nbformat": 4,
  "nbformat_minor": 0,
  "metadata": {
    "colab": {
      "provenance": []
    },
    "kernelspec": {
      "name": "python3",
      "display_name": "Python 3"
    },
    "language_info": {
      "name": "python"
    }
  },
  "cells": [
    {
      "cell_type": "markdown",
      "source": [
        "#Day 3 - Python Series"
      ],
      "metadata": {
        "id": "i2sxoQU8-391"
      }
    },
    {
      "cell_type": "markdown",
      "source": [
        "#Easy Level – Understand the basics\n",
        "\n"
      ],
      "metadata": {
        "id": "spLQwf2Z-8bU"
      }
    },
    {
      "cell_type": "markdown",
      "source": [
        "#1. Create a list of your 5 favorite fruits."
      ],
      "metadata": {
        "id": "bshsVymH_Jf8"
      }
    },
    {
      "cell_type": "code",
      "source": [
        "list1 = ['apple', 'mango' , 'orange' , 'banana' , 'starwberry']\n",
        "print(list1)"
      ],
      "metadata": {
        "colab": {
          "base_uri": "https://localhost:8080/"
        },
        "id": "lDzCVaQm_VsN",
        "outputId": "196c6f56-5890-4045-e48b-92756a36c7ae"
      },
      "execution_count": 8,
      "outputs": [
        {
          "output_type": "stream",
          "name": "stdout",
          "text": [
            "['apple', 'mango', 'orange', 'banana', 'starwberry']\n"
          ]
        }
      ]
    },
    {
      "cell_type": "markdown",
      "source": [
        "#2. Access the 3rd element from a list [5, 10, 15, 20]."
      ],
      "metadata": {
        "id": "UEbs_GTd_88Z"
      }
    },
    {
      "cell_type": "code",
      "source": [
        "list = [5, 20, 15, 20]\n",
        "print(\"the 3rd element is:\" ,list[2])"
      ],
      "metadata": {
        "colab": {
          "base_uri": "https://localhost:8080/"
        },
        "id": "5MjNTYK-ANCM",
        "outputId": "9d7de578-7de9-4532-9498-bbedd34bf9d5"
      },
      "execution_count": 10,
      "outputs": [
        {
          "output_type": "stream",
          "name": "stdout",
          "text": [
            "the 3rd element is: 15\n"
          ]
        }
      ]
    },
    {
      "cell_type": "markdown",
      "source": [
        "#3. Change the first value of a list from 10 to 100."
      ],
      "metadata": {
        "id": "m6CajPRSAnl9"
      }
    },
    {
      "cell_type": "code",
      "source": [
        "list = [10, 20, 30, 40]\n",
        "list[0] = 100\n",
        "print(list)"
      ],
      "metadata": {
        "colab": {
          "base_uri": "https://localhost:8080/"
        },
        "id": "EsqqRK32AqQG",
        "outputId": "1d2e87db-276e-4b5d-9078-4976f47b882d"
      },
      "execution_count": 12,
      "outputs": [
        {
          "output_type": "stream",
          "name": "stdout",
          "text": [
            "[100, 20, 30, 40]\n"
          ]
        }
      ]
    },
    {
      "cell_type": "markdown",
      "source": [
        "#4. Use len() to find the number of items in [4, 7, 1, 2]."
      ],
      "metadata": {
        "id": "GX9-xZeVBSjz"
      }
    },
    {
      "cell_type": "code",
      "source": [
        "items = [4, 7, 1, 2]\n",
        "print(\"the len of the list is: \", len(items))"
      ],
      "metadata": {
        "colab": {
          "base_uri": "https://localhost:8080/"
        },
        "id": "Zin-EXlLBXUb",
        "outputId": "7d311dba-e651-4512-98c5-9d4f6862c1cf"
      },
      "execution_count": 13,
      "outputs": [
        {
          "output_type": "stream",
          "name": "stdout",
          "text": [
            "the len of the list is:  4\n"
          ]
        }
      ]
    },
    {
      "cell_type": "markdown",
      "source": [
        "#5. Create a tuple with the elements: \"Python\", 3.10, True."
      ],
      "metadata": {
        "id": "uZ2y9py8BlOk"
      }
    },
    {
      "cell_type": "code",
      "source": [
        "tup = (\"python\", 3.10, True)\n",
        "print(type(tup))"
      ],
      "metadata": {
        "colab": {
          "base_uri": "https://localhost:8080/"
        },
        "id": "0xLgUS_vBn-s",
        "outputId": "d3da243a-5fe5-4a9a-ce77-f753aed91b30"
      },
      "execution_count": 16,
      "outputs": [
        {
          "output_type": "stream",
          "name": "stdout",
          "text": [
            "<class 'tuple'>\n"
          ]
        }
      ]
    },
    {
      "cell_type": "markdown",
      "source": [
        "#6. Add an element \"banana\" to a list using .append()."
      ],
      "metadata": {
        "id": "e-ueNmUsB2-F"
      }
    },
    {
      "cell_type": "code",
      "source": [
        "fruits = ['apple', 'mango', 'stawberry']\n",
        "fruits.append('banana')\n",
        "print(fruits)"
      ],
      "metadata": {
        "colab": {
          "base_uri": "https://localhost:8080/"
        },
        "id": "o9iZ-FuDB58l",
        "outputId": "d3e6d5b9-e3be-4949-937c-0e43f8c1845b"
      },
      "execution_count": 17,
      "outputs": [
        {
          "output_type": "stream",
          "name": "stdout",
          "text": [
            "['apple', 'mango', 'stawberry', 'banana']\n"
          ]
        }
      ]
    },
    {
      "cell_type": "markdown",
      "source": [
        "#7. Sort the list [3, 1, 4, 2] in ascending order."
      ],
      "metadata": {
        "id": "zFBnEd1MCIe2"
      }
    },
    {
      "cell_type": "code",
      "source": [
        "list = [3, 1, 4, 2]\n",
        "list.sort()\n",
        "print(\"The list in ascending order is: \", list)"
      ],
      "metadata": {
        "colab": {
          "base_uri": "https://localhost:8080/"
        },
        "id": "jMQNxU71CLO2",
        "outputId": "95b724dd-38df-49cf-f75f-e050960ade17"
      },
      "execution_count": 18,
      "outputs": [
        {
          "output_type": "stream",
          "name": "stdout",
          "text": [
            "The list in ascending order is:  [1, 2, 3, 4]\n"
          ]
        }
      ]
    },
    {
      "cell_type": "markdown",
      "source": [
        "#8. Remove the element 4 from the list [4, 5, 6]."
      ],
      "metadata": {
        "id": "QyECxzvCCcmv"
      }
    },
    {
      "cell_type": "code",
      "source": [
        "list = [4, 5, 6]\n",
        "list.remove(4)\n",
        "print(list)"
      ],
      "metadata": {
        "colab": {
          "base_uri": "https://localhost:8080/"
        },
        "id": "i-NfL52OCgYx",
        "outputId": "813e98a3-48c9-4248-f00c-397efa8b0334"
      },
      "execution_count": 20,
      "outputs": [
        {
          "output_type": "stream",
          "name": "stdout",
          "text": [
            "[5, 6]\n"
          ]
        }
      ]
    },
    {
      "cell_type": "markdown",
      "source": [
        "#9. Reverse the list [1, 2, 3]."
      ],
      "metadata": {
        "id": "6bD1lhICC2Th"
      }
    },
    {
      "cell_type": "code",
      "source": [
        "list = [1, 2, 3]\n",
        "list.reverse()\n",
        "print(list)"
      ],
      "metadata": {
        "colab": {
          "base_uri": "https://localhost:8080/"
        },
        "id": "wA6-dIiuC46J",
        "outputId": "ed4cda47-2b76-46e6-8bb6-afe0ee117d8c"
      },
      "execution_count": 22,
      "outputs": [
        {
          "output_type": "stream",
          "name": "stdout",
          "text": [
            "[3, 2, 1]\n"
          ]
        }
      ]
    },
    {
      "cell_type": "markdown",
      "source": [
        "#10. Count how many times 2 appears in (2, 2, 3, 4)."
      ],
      "metadata": {
        "id": "xFWOr7IdDIkj"
      }
    },
    {
      "cell_type": "code",
      "source": [
        "tup = (2, 2,2, 3, 4)\n",
        "print(\"The element 2 appears times: \", tup.count(2))"
      ],
      "metadata": {
        "colab": {
          "base_uri": "https://localhost:8080/"
        },
        "id": "6P4lOFj2DLGz",
        "outputId": "34d77324-2a99-4e27-dd04-5a086f49122e"
      },
      "execution_count": 27,
      "outputs": [
        {
          "output_type": "stream",
          "name": "stdout",
          "text": [
            "The element 2 appears times:  3\n"
          ]
        }
      ]
    },
    {
      "cell_type": "markdown",
      "source": [
        "#MEDIUM (LOGIC & METHODS)"
      ],
      "metadata": {
        "id": "TgFzSMggDoY9"
      }
    },
    {
      "cell_type": "markdown",
      "source": [
        "#11. Write a program to take 5 names from user and store in a list.\n",
        "\n"
      ],
      "metadata": {
        "id": "YU2urV4KGCaK"
      }
    },
    {
      "cell_type": "code",
      "source": [
        "names = []\n",
        "name1 =input(\"WRITE YOUR NAME: \")\n",
        "names.append(name1)\n",
        "name2 = input(\"Write your name: \")\n",
        "names.append(name2)\n",
        "name3 =input(\"WRITE YOUR NAME: \")\n",
        "names.append(name3)\n",
        "name4 = input(\"Write your name: \")\n",
        "names.append(name4)\n",
        "name5 =input(\"WRITE YOUR NAME: \")\n",
        "names.append(name5)\n",
        "print(names)"
      ],
      "metadata": {
        "colab": {
          "base_uri": "https://localhost:8080/"
        },
        "id": "F5TBV9sXGIpD",
        "outputId": "19b5a5fd-a3f1-46b0-bd0f-dc3c0414dd00"
      },
      "execution_count": 28,
      "outputs": [
        {
          "output_type": "stream",
          "name": "stdout",
          "text": [
            "WRITE YOUR NAME: eraj\n",
            "Write your name: wusqa\n",
            "WRITE YOUR NAME: abdullah\n",
            "Write your name: amir\n",
            "WRITE YOUR NAME: rabia\n",
            "['eraj', 'wusqa', 'abdullah', 'amir', 'rabia']\n"
          ]
        }
      ]
    },
    {
      "cell_type": "markdown",
      "source": [
        "#12. Slice and print only first 3 values from a list of 5 numbers."
      ],
      "metadata": {
        "id": "ehp2j6WVHoOB"
      }
    },
    {
      "cell_type": "code",
      "source": [
        "list = [2, 3, 4, 5, 6]\n",
        "print(list[0 : 3])"
      ],
      "metadata": {
        "colab": {
          "base_uri": "https://localhost:8080/"
        },
        "id": "A1D7wL2QHsfw",
        "outputId": "ea6ccfa5-4ba3-4ddd-ffbf-d82d618e1b62"
      },
      "execution_count": 30,
      "outputs": [
        {
          "output_type": "stream",
          "name": "stdout",
          "text": [
            "[2, 3, 4]\n"
          ]
        }
      ]
    },
    {
      "cell_type": "markdown",
      "source": [
        "#13. Create a tuple with numbers and print the 2nd to 4th values."
      ],
      "metadata": {
        "id": "EROTVytWH_zU"
      }
    },
    {
      "cell_type": "code",
      "source": [
        "tup = (1, 3, 6, 7, 8, 9, 60)\n",
        "print(tup[1:4])"
      ],
      "metadata": {
        "colab": {
          "base_uri": "https://localhost:8080/"
        },
        "id": "1d3cbompICCc",
        "outputId": "a5275614-394d-417c-dfef-b27a6302dd9e"
      },
      "execution_count": 31,
      "outputs": [
        {
          "output_type": "stream",
          "name": "stdout",
          "text": [
            "(3, 6, 7)\n"
          ]
        }
      ]
    },
    {
      "cell_type": "markdown",
      "source": [
        "#14. Check if a word is palindrome using a list.\n",
        "\n"
      ],
      "metadata": {
        "id": "2SI-ZyIjIWit"
      }
    },
    {
      "cell_type": "code",
      "source": [
        "word = [\"eraj\"]\n",
        "copy_word = word.copy()\n",
        "copy_word.reverse()\n",
        "if word == copy_word:\n",
        "  print('Palindrome')\n",
        "else:\n",
        "  print('Not palindrome')"
      ],
      "metadata": {
        "colab": {
          "base_uri": "https://localhost:8080/",
          "height": 211
        },
        "id": "sAnhisJLIZCN",
        "outputId": "692e5869-2ad0-4c1d-8341-c52ec4068280"
      },
      "execution_count": 67,
      "outputs": [
        {
          "output_type": "error",
          "ename": "TypeError",
          "evalue": "'list' object is not callable",
          "traceback": [
            "\u001b[0;31m---------------------------------------------------------------------------\u001b[0m",
            "\u001b[0;31mTypeError\u001b[0m                                 Traceback (most recent call last)",
            "\u001b[0;32m/tmp/ipython-input-67-3878436465.py\u001b[0m in \u001b[0;36m<cell line: 0>\u001b[0;34m()\u001b[0m\n\u001b[0;32m----> 1\u001b[0;31m \u001b[0mword\u001b[0m \u001b[0;34m=\u001b[0m \u001b[0mlist\u001b[0m\u001b[0;34m(\u001b[0m\u001b[0;34m\"eraj\"\u001b[0m\u001b[0;34m)\u001b[0m          \u001b[0;31m# ['e', 'r', 'a', 'j']\u001b[0m\u001b[0;34m\u001b[0m\u001b[0;34m\u001b[0m\u001b[0m\n\u001b[0m\u001b[1;32m      2\u001b[0m \u001b[0mcopy_word\u001b[0m \u001b[0;34m=\u001b[0m \u001b[0mword\u001b[0m\u001b[0;34m.\u001b[0m\u001b[0mcopy\u001b[0m\u001b[0;34m(\u001b[0m\u001b[0;34m)\u001b[0m\u001b[0;34m\u001b[0m\u001b[0;34m\u001b[0m\u001b[0m\n\u001b[1;32m      3\u001b[0m \u001b[0mcopy_word\u001b[0m\u001b[0;34m.\u001b[0m\u001b[0mreverse\u001b[0m\u001b[0;34m(\u001b[0m\u001b[0;34m)\u001b[0m\u001b[0;34m\u001b[0m\u001b[0;34m\u001b[0m\u001b[0m\n\u001b[1;32m      4\u001b[0m \u001b[0;34m\u001b[0m\u001b[0m\n\u001b[1;32m      5\u001b[0m \u001b[0;32mif\u001b[0m \u001b[0mword\u001b[0m \u001b[0;34m==\u001b[0m \u001b[0mcopy_word\u001b[0m\u001b[0;34m:\u001b[0m\u001b[0;34m\u001b[0m\u001b[0;34m\u001b[0m\u001b[0m\n",
            "\u001b[0;31mTypeError\u001b[0m: 'list' object is not callable"
          ]
        }
      ]
    },
    {
      "cell_type": "markdown",
      "source": [
        "#15 Use .insert() to add \"grape\" at index 1 in a fruit list."
      ],
      "metadata": {
        "id": "C2gQ_xg9QyJa"
      }
    },
    {
      "cell_type": "code",
      "source": [
        "fruit = ['mango', 'aapple', 'banana']\n",
        "fruit.insert(1, 'grape')\n",
        "print(fruit)"
      ],
      "metadata": {
        "colab": {
          "base_uri": "https://localhost:8080/"
        },
        "id": "FuDrYPwLQ4W6",
        "outputId": "ea15da67-2d51-46c5-ff27-d4c9fb346365"
      },
      "execution_count": 47,
      "outputs": [
        {
          "output_type": "stream",
          "name": "stdout",
          "text": [
            "['mango', 'grape', 'aapple', 'banana']\n"
          ]
        }
      ]
    },
    {
      "cell_type": "markdown",
      "source": [
        "#16. Sort a list in descending order using .sort(reverse=True)."
      ],
      "metadata": {
        "id": "16KST0D_Rd1L"
      }
    },
    {
      "cell_type": "code",
      "source": [
        "list = [1, 3, 4, 7, 88, 4, 33]\n",
        "list.sort(reverse=True)\n",
        "print(list)"
      ],
      "metadata": {
        "colab": {
          "base_uri": "https://localhost:8080/"
        },
        "id": "NUCUBjwGRg2k",
        "outputId": "c53d584a-9ed1-4814-d85b-0610a3503ad3"
      },
      "execution_count": 48,
      "outputs": [
        {
          "output_type": "stream",
          "name": "stdout",
          "text": [
            "[88, 33, 7, 4, 4, 3, 1]\n"
          ]
        }
      ]
    },
    {
      "cell_type": "markdown",
      "source": [
        "#17. Use .pop() to remove the 2nd item from a list."
      ],
      "metadata": {
        "id": "6Nhp75OHRuRJ"
      }
    },
    {
      "cell_type": "code",
      "source": [
        "list = [1, 3, 4, 7, 88, 4, 33]\n",
        "list.pop(1)\n",
        "print(list)"
      ],
      "metadata": {
        "colab": {
          "base_uri": "https://localhost:8080/"
        },
        "id": "fJZi0RMTRwkx",
        "outputId": "996b6cf9-773d-44be-a99b-6ffc550e90a3"
      },
      "execution_count": 50,
      "outputs": [
        {
          "output_type": "stream",
          "name": "stdout",
          "text": [
            "[1, 4, 7, 88, 4, 33]\n"
          ]
        }
      ]
    },
    {
      "cell_type": "markdown",
      "source": [
        "#18. Count number of B grades in this tuple: (\"B\", \"A\", \"B\", \"C\")."
      ],
      "metadata": {
        "id": "Z_RVOc0nR_4e"
      }
    },
    {
      "cell_type": "code",
      "source": [
        "tup = (\"B\", \"c\", \"B\", \"A\")\n",
        "print(\"The occurence of grade B is:\", tup.count(\"B\"))"
      ],
      "metadata": {
        "colab": {
          "base_uri": "https://localhost:8080/"
        },
        "id": "UgHDEGBHSDP3",
        "outputId": "e04819b9-715d-4da3-98e8-c7adbf3a1abb"
      },
      "execution_count": 52,
      "outputs": [
        {
          "output_type": "stream",
          "name": "stdout",
          "text": [
            "The occurence of grade B is: 2\n"
          ]
        }
      ]
    },
    {
      "cell_type": "markdown",
      "source": [
        "#19. Check if a value exists in a list using in."
      ],
      "metadata": {
        "id": "Bt8sPSMeSgVK"
      }
    },
    {
      "cell_type": "code",
      "source": [
        "list = [2, 4, 6, 8, 3, 5]\n",
        "if 8 in list:\n",
        "  print(\"Yes it is in the list\")\n",
        "else:\n",
        "  print(\"no it is not in the list\")"
      ],
      "metadata": {
        "colab": {
          "base_uri": "https://localhost:8080/"
        },
        "id": "PLt6GnbCSkRZ",
        "outputId": "2944935a-0a82-4116-8b7d-112c154c75ea"
      },
      "execution_count": 56,
      "outputs": [
        {
          "output_type": "stream",
          "name": "stdout",
          "text": [
            "Yes it is in the list\n"
          ]
        }
      ]
    },
    {
      "cell_type": "markdown",
      "source": [
        "#20. Take 3 numbers from user and print their average."
      ],
      "metadata": {
        "id": "u7dTX7HwS9YN"
      }
    },
    {
      "cell_type": "code",
      "source": [
        "num1 = int(input(\"Write num\"))\n",
        "num2 = int(input(\"Write num\"))\n",
        "num3 =  int(input(\"Write num\"))\n",
        "avg = (num1 + num2 + num3) / 3\n",
        "print(\"The avg of the numbs is: \", avg)"
      ],
      "metadata": {
        "colab": {
          "base_uri": "https://localhost:8080/"
        },
        "id": "UvAUX4ioTBGE",
        "outputId": "9efb7408-254c-4695-cfc7-1c658dc9e34e"
      },
      "execution_count": 59,
      "outputs": [
        {
          "output_type": "stream",
          "name": "stdout",
          "text": [
            "Write num6\n",
            "Write num7\n",
            "Write num8\n",
            "The avg of the numbs is:  7.0\n"
          ]
        }
      ]
    },
    {
      "cell_type": "markdown",
      "source": [
        "#Hard (Conceptual Mastery)"
      ],
      "metadata": {
        "id": "pt4ByNZuTywe"
      }
    },
    {
      "cell_type": "markdown",
      "source": [
        "#21. Check if a list is a palindrome without using slicing."
      ],
      "metadata": {
        "id": "HuxmQpaYT-KD"
      }
    },
    {
      "cell_type": "code",
      "source": [
        "list = [1, 2, 4, 2, 1]\n",
        "list1 = list.copy()\n",
        "list1.reverse()\n",
        "if list == list1:\n",
        "  print(\"Palindrome\")\n",
        "else:\n",
        "  print(\"Not palindrome\")"
      ],
      "metadata": {
        "colab": {
          "base_uri": "https://localhost:8080/"
        },
        "id": "Yf7LXn_4UDKy",
        "outputId": "04766914-34ac-47f9-c747-12ed0109aa27"
      },
      "execution_count": 69,
      "outputs": [
        {
          "output_type": "stream",
          "name": "stdout",
          "text": [
            "Palindrome\n"
          ]
        }
      ]
    },
    {
      "cell_type": "markdown",
      "source": [
        "#22. Create a list from user input and remove duplicates."
      ],
      "metadata": {
        "id": "4xxHjI1DX0i0"
      }
    },
    {
      "cell_type": "code",
      "source": [
        "user_input = input(\"enter items sperated by spaces: \")\n",
        "list = user_input.split()\n",
        "remove_d = set(list)\n",
        "print(remove_d)"
      ],
      "metadata": {
        "colab": {
          "base_uri": "https://localhost:8080/"
        },
        "id": "RdaHC8dyX4A9",
        "outputId": "1b876864-6f66-4696-e0d6-c7687893fceb"
      },
      "execution_count": 71,
      "outputs": [
        {
          "output_type": "stream",
          "name": "stdout",
          "text": [
            "enter items sperated by spaces: apple mango orange apple\n",
            "{'orange', 'mango', 'apple'}\n"
          ]
        }
      ]
    },
    {
      "cell_type": "markdown",
      "source": [
        "#23. Merge two lists and sort them together."
      ],
      "metadata": {
        "id": "djUduxF-X4U1"
      }
    },
    {
      "cell_type": "code",
      "source": [
        "list1 = [1 , 2, 3, 4, 7]\n",
        "list2 = [2 , 5, 7, 9, 3]\n",
        "merge = list1 + list2\n",
        "merge.sort()\n",
        "print(merge)"
      ],
      "metadata": {
        "colab": {
          "base_uri": "https://localhost:8080/"
        },
        "id": "c29vsSCvX7C8",
        "outputId": "1114a5ae-9c1d-4bdd-c55d-18f593197bee"
      },
      "execution_count": 72,
      "outputs": [
        {
          "output_type": "stream",
          "name": "stdout",
          "text": [
            "[1, 2, 2, 3, 3, 4, 5, 7, 7, 9]\n"
          ]
        }
      ]
    },
    {
      "cell_type": "markdown",
      "source": [
        "#25. Take names and scores, and store them in a nested list."
      ],
      "metadata": {
        "id": "Rg4KsTQfX95c"
      }
    },
    {
      "cell_type": "code",
      "source": [
        "name1 = ['eraj', 23]\n",
        "name2 = ['sara', 4444]\n",
        "name3 = ['musavir' , 44]\n",
        "nested_list = [name1, name2, name3]\n",
        "print(\"Nested List is:\", nested_list)"
      ],
      "metadata": {
        "colab": {
          "base_uri": "https://localhost:8080/"
        },
        "id": "nlM35hu5YAA0",
        "outputId": "f1a6b391-a12b-4255-c822-9810240f0f46"
      },
      "execution_count": 88,
      "outputs": [
        {
          "output_type": "stream",
          "name": "stdout",
          "text": [
            "Nested List is: [['eraj', 23], ['sara', 4444], ['musavir', 44]]\n"
          ]
        }
      ]
    },
    {
      "cell_type": "markdown",
      "source": [
        "#26. Reverse a tuple using slicing."
      ],
      "metadata": {
        "id": "Fxn_7abUYALm"
      }
    },
    {
      "cell_type": "code",
      "source": [
        "tup = (\"2\", '3', '4', '7')\n",
        "reverse = tup[::-1]\n",
        "print(reverse)"
      ],
      "metadata": {
        "colab": {
          "base_uri": "https://localhost:8080/"
        },
        "id": "k-PMOd6BYDP1",
        "outputId": "378c6673-0325-476a-f935-734f6687dc82"
      },
      "execution_count": 74,
      "outputs": [
        {
          "output_type": "stream",
          "name": "stdout",
          "text": [
            "('7', '4', '3', '2')\n"
          ]
        }
      ]
    },
    {
      "cell_type": "markdown",
      "source": [
        "#27. Simulate stack operations using .append() and .pop().\n",
        "\n"
      ],
      "metadata": {
        "id": "r4GioGO8YDYc"
      }
    },
    {
      "cell_type": "code",
      "source": [],
      "metadata": {
        "id": "x7C9RFLrYFwE"
      },
      "execution_count": null,
      "outputs": []
    },
    {
      "cell_type": "markdown",
      "source": [
        "#29. From a list of numbers, separate even and odd numbers into different lists.\n",
        "\n"
      ],
      "metadata": {
        "id": "lDPzXSS3YKqz"
      }
    },
    {
      "cell_type": "code",
      "source": [
        "numbers = [1, 2, 3, 4, 5, 6, 7, 8, 9, 10]\n",
        "even = []\n",
        "odd = []\n",
        "\n",
        "for num in numbers:\n",
        "    if num % 2 == 0:\n",
        "        even.append(num)\n",
        "    else:\n",
        "        odd.append(num)\n",
        "\n",
        "print(\"Even numbers are:\", even)\n",
        "print(\"Odd numbers are:\", odd)\n"
      ],
      "metadata": {
        "colab": {
          "base_uri": "https://localhost:8080/"
        },
        "id": "HbCLxNsLYMYz",
        "outputId": "86080e07-2568-4bb6-d778-aa611e91610b"
      },
      "execution_count": 85,
      "outputs": [
        {
          "output_type": "stream",
          "name": "stdout",
          "text": [
            "Even numbers are: [2, 4, 6, 8, 10]\n",
            "Odd numbers are: [1, 3, 5, 7, 9]\n"
          ]
        }
      ]
    },
    {
      "cell_type": "markdown",
      "source": [
        "#30. Take a list of student marks, and print highest, lowest, and average marks.\n",
        "\n"
      ],
      "metadata": {
        "id": "c29nueoHYMqj"
      }
    },
    {
      "cell_type": "code",
      "source": [
        "marks = [234, 67, 33, 788, 433]\n",
        "print(\"The highest marks are: \", max(marks))\n",
        "print(\"The lowest marks are: \", min(marks))\n",
        "print(\"The average marks are: \", sum(marks) / len(marks))"
      ],
      "metadata": {
        "colab": {
          "base_uri": "https://localhost:8080/"
        },
        "id": "M8BMzuKUYPIj",
        "outputId": "3ac1abed-0259-470a-a1b2-948ab58a4ab5"
      },
      "execution_count": 76,
      "outputs": [
        {
          "output_type": "stream",
          "name": "stdout",
          "text": [
            "The highest marks are:  788\n",
            "The lowest marks are:  33\n",
            "The average marks are:  311.0\n"
          ]
        }
      ]
    }
  ]
}