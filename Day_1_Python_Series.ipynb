{
  "nbformat": 4,
  "nbformat_minor": 0,
  "metadata": {
    "colab": {
      "provenance": []
    },
    "kernelspec": {
      "name": "python3",
      "display_name": "Python 3"
    },
    "language_info": {
      "name": "python"
    }
  },
  "cells": [
    {
      "cell_type": "markdown",
      "source": [
        "#Day 1 - Python Series"
      ],
      "metadata": {
        "id": "3eA0B_fV5mrY"
      }
    },
    {
      "cell_type": "markdown",
      "source": [
        "Solutions of Practice Questions (Lecture 1)\n",
        "[Document of Solutions ](https://docs.google.com/document/d/1xTq7YbU2nj4d3jeRAfldRYjy3KHA4ej04KMUkWAXFPQ/edit?usp=sharing)"
      ],
      "metadata": {
        "id": "9mdhtkXdxIyP"
      }
    }
  ]
}